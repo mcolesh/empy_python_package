{
 "cells": [
  {
   "cell_type": "code",
   "execution_count": 1,
   "metadata": {},
   "outputs": [],
   "source": [
    "import numpy as np\n",
    "import pandas as pd\n",
    "import matplotlib.pyplot as plt"
   ]
  },
  {
   "cell_type": "code",
   "execution_count": 3,
   "metadata": {},
   "outputs": [],
   "source": [
    "import pandas as pd\n",
    "\n",
    "# Create a DataFrame with dummy data\n",
    "data = {\n",
    "    'Name': ['Alice', 'Bob', 'Charlie', 'David', 'Edward'],\n",
    "    'Age': [24, 27, 22, 32, 29],\n",
    "    'City': ['Tel Aviv', 'New York', 'Haifa', 'Houston', 'Los Angeles']\n",
    "}\n",
    "\n",
    "df = pd.DataFrame(data)\n"
   ]
  },
  {
   "cell_type": "code",
   "execution_count": 4,
   "metadata": {},
   "outputs": [
    {
     "name": "stdout",
     "output_type": "stream",
     "text": [
      "      Name  Age         City\n",
      "0    Alice   24     Tel Aviv\n",
      "1      Bob   27     New York\n",
      "2  Charlie   22        Haifa\n",
      "3    David   32      Houston\n",
      "4   Edward   29  Los Angeles\n"
     ]
    }
   ],
   "source": [
    "\n",
    "# Display the DataFrame\n",
    "print(df)"
   ]
  },
  {
   "cell_type": "markdown",
   "metadata": {},
   "source": [
    "Access the name column from the dataframe df."
   ]
  },
  {
   "cell_type": "code",
   "execution_count": 5,
   "metadata": {},
   "outputs": [
    {
     "name": "stdout",
     "output_type": "stream",
     "text": [
      "0      Alice\n",
      "1        Bob\n",
      "2    Charlie\n",
      "3      David\n",
      "4     Edward\n",
      "Name: Name, dtype: object\n"
     ]
    }
   ],
   "source": [
    "# Access a specific column\n",
    "print(df['Name'])"
   ]
  },
  {
   "cell_type": "code",
   "execution_count": 6,
   "metadata": {},
   "outputs": [
    {
     "name": "stdout",
     "output_type": "stream",
     "text": [
      "    Name  Age      City\n",
      "0  Alice   24  Tel Aviv\n",
      "Name      David\n",
      "Age          32\n",
      "City    Houston\n",
      "Name: 3, dtype: object\n"
     ]
    }
   ],
   "source": [
    "# Access a specific row by index (using loc or iloc)\n",
    "print(df.loc[df.Name == 'Alice'])  \n",
    "print(df.iloc[3]) "
   ]
  },
  {
   "cell_type": "code",
   "execution_count": 7,
   "metadata": {},
   "outputs": [
    {
     "name": "stdout",
     "output_type": "stream",
     "text": [
      "22\n"
     ]
    }
   ],
   "source": [
    "# Access a specific value\n",
    "print(df.at[2, 'Age'])  # Age of Charlie"
   ]
  },
  {
   "cell_type": "markdown",
   "metadata": {},
   "source": [
    "Add a new column of salary to the dataframe."
   ]
  },
  {
   "cell_type": "code",
   "execution_count": 8,
   "metadata": {},
   "outputs": [
    {
     "name": "stdout",
     "output_type": "stream",
     "text": [
      "      Name  Age         City  Salary\n",
      "0    Alice   24     Tel Aviv   50000\n",
      "1      Bob   27     New York   55000\n",
      "2  Charlie   22        Haifa   48000\n",
      "3    David   32      Houston   60000\n",
      "4   Edward   29  Los Angeles   62000\n"
     ]
    }
   ],
   "source": [
    "# Add a new column\n",
    "df['Salary'] = [50000, 55000, 48000, 60000, 62000]\n",
    "print(df)"
   ]
  },
  {
   "cell_type": "code",
   "execution_count": 9,
   "metadata": {},
   "outputs": [
    {
     "name": "stdout",
     "output_type": "stream",
     "text": [
      "Mean Age: 26.8\n"
     ]
    }
   ],
   "source": [
    "# Calculate the mean age\n",
    "print(\"Mean Age:\", df['Age'].mean())"
   ]
  },
  {
   "cell_type": "markdown",
   "metadata": {},
   "source": [
    "Filter the data and print only the data of the people who are older than 25"
   ]
  },
  {
   "cell_type": "code",
   "execution_count": 10,
   "metadata": {},
   "outputs": [
    {
     "name": "stdout",
     "output_type": "stream",
     "text": [
      "     Name  Age         City  Salary\n",
      "1     Bob   27     New York   55000\n",
      "3   David   32      Houston   60000\n",
      "4  Edward   29  Los Angeles   62000\n"
     ]
    }
   ],
   "source": [
    "# Filter data (people older than 25)\n",
    "print(df[df['Age'] > 25])"
   ]
  },
  {
   "cell_type": "markdown",
   "metadata": {},
   "source": [
    "Sort dataframe by age"
   ]
  },
  {
   "cell_type": "code",
   "execution_count": 11,
   "metadata": {},
   "outputs": [
    {
     "name": "stdout",
     "output_type": "stream",
     "text": [
      "      Name  Age         City  Salary\n",
      "2  Charlie   22        Haifa   48000\n",
      "0    Alice   24     Tel Aviv   50000\n",
      "1      Bob   27     New York   55000\n",
      "4   Edward   29  Los Angeles   62000\n",
      "3    David   32      Houston   60000\n"
     ]
    }
   ],
   "source": [
    "\n",
    "# Sorting by Age\n",
    "print(df.sort_values(by='Age', ascending=True))"
   ]
  },
  {
   "cell_type": "markdown",
   "metadata": {},
   "source": [
    "Insert a None value in your salary column and then fill it with the mean of your salary."
   ]
  },
  {
   "cell_type": "code",
   "execution_count": 12,
   "metadata": {},
   "outputs": [
    {
     "name": "stdout",
     "output_type": "stream",
     "text": [
      "      Name  Age         City   Salary\n",
      "0    Alice   24     Tel Aviv  50000.0\n",
      "1      Bob   27     New York      NaN\n",
      "2  Charlie   22        Haifa  48000.0\n",
      "3    David   32      Houston  60000.0\n",
      "4   Edward   29  Los Angeles  62000.0\n",
      "      Name  Age         City   Salary\n",
      "0    Alice   24     Tel Aviv  50000.0\n",
      "1      Bob   27     New York  55000.0\n",
      "2  Charlie   22        Haifa  48000.0\n",
      "3    David   32      Houston  60000.0\n",
      "4   Edward   29  Los Angeles  62000.0\n",
      "      Name  Age         City   Salary\n",
      "0    Alice   24     Tel Aviv  50000.0\n",
      "1      Bob   27     New York  55000.0\n",
      "2  Charlie   22        Haifa  48000.0\n",
      "3    David   32      Houston  60000.0\n",
      "4   Edward   29  Los Angeles  62000.0\n"
     ]
    },
    {
     "name": "stderr",
     "output_type": "stream",
     "text": [
      "C:\\Users\\user\\AppData\\Local\\Temp\\ipykernel_31476\\2679577633.py:7: FutureWarning: A value is trying to be set on a copy of a DataFrame or Series through chained assignment using an inplace method.\n",
      "The behavior will change in pandas 3.0. This inplace method will never work because the intermediate object on which we are setting values always behaves as a copy.\n",
      "\n",
      "For example, when doing 'df[col].method(value, inplace=True)', try using 'df.method({col: value}, inplace=True)' or df[col] = df[col].method(value) instead, to perform the operation inplace on the original object.\n",
      "\n",
      "\n",
      "  df['Salary'].fillna(df['Salary'].mean(), inplace=True)\n"
     ]
    }
   ],
   "source": [
    "# 2.4 Handling Missing Data\n",
    "# Introduce missing values\n",
    "df.loc[1, 'Salary'] = None\n",
    "print(df)\n",
    "\n",
    "# Fill missing values with a default value (e.g., 0 or mean)\n",
    "df['Salary'].fillna(df['Salary'].mean(), inplace=True)\n",
    "print(df)\n",
    "\n",
    "# Drop rows with missing values\n",
    "df.dropna(inplace=True)\n",
    "print(df)"
   ]
  },
  {
   "cell_type": "markdown",
   "metadata": {},
   "source": [
    "Download the sleep dataset from the Lemida and upload it using code - all further code will be done with this dataset."
   ]
  },
  {
   "cell_type": "code",
   "execution_count": 13,
   "metadata": {},
   "outputs": [],
   "source": [
    "\n",
    "df = pd.read_csv(r\"C:\\Users\\user\\OneDrive - Bar-Ilan University - Students\\Documents\\advanced_programming_course\\lectures\\practice_pandas_numpy\\student_sleep_patterns.csv\")"
   ]
  },
  {
   "cell_type": "markdown",
   "metadata": {},
   "source": [
    "Print columns in dataframe"
   ]
  },
  {
   "cell_type": "code",
   "execution_count": 14,
   "metadata": {},
   "outputs": [
    {
     "name": "stdout",
     "output_type": "stream",
     "text": [
      "Index(['Student_ID', 'Age', 'Gender', 'University_Year', 'Sleep_Duration',\n",
      "       'Study_Hours', 'Screen_Time', 'Caffeine_Intake', 'Physical_Activity',\n",
      "       'Sleep_Quality', 'Weekday_Sleep_Start', 'Weekend_Sleep_Start',\n",
      "       'Weekday_Sleep_End', 'Weekend_Sleep_End'],\n",
      "      dtype='object')\n"
     ]
    }
   ],
   "source": [
    "print(df.columns)"
   ]
  },
  {
   "cell_type": "markdown",
   "metadata": {},
   "source": [
    "Find the number of columns and rows in this dataset."
   ]
  },
  {
   "cell_type": "code",
   "execution_count": 15,
   "metadata": {},
   "outputs": [
    {
     "name": "stdout",
     "output_type": "stream",
     "text": [
      "Shape:  (500, 14)\n"
     ]
    },
    {
     "data": {
      "text/html": [
       "<div>\n",
       "<style scoped>\n",
       "    .dataframe tbody tr th:only-of-type {\n",
       "        vertical-align: middle;\n",
       "    }\n",
       "\n",
       "    .dataframe tbody tr th {\n",
       "        vertical-align: top;\n",
       "    }\n",
       "\n",
       "    .dataframe thead th {\n",
       "        text-align: right;\n",
       "    }\n",
       "</style>\n",
       "<table border=\"1\" class=\"dataframe\">\n",
       "  <thead>\n",
       "    <tr style=\"text-align: right;\">\n",
       "      <th></th>\n",
       "      <th>Student_ID</th>\n",
       "      <th>Age</th>\n",
       "      <th>Gender</th>\n",
       "      <th>University_Year</th>\n",
       "      <th>Sleep_Duration</th>\n",
       "      <th>Study_Hours</th>\n",
       "      <th>Screen_Time</th>\n",
       "      <th>Caffeine_Intake</th>\n",
       "      <th>Physical_Activity</th>\n",
       "      <th>Sleep_Quality</th>\n",
       "      <th>Weekday_Sleep_Start</th>\n",
       "      <th>Weekend_Sleep_Start</th>\n",
       "      <th>Weekday_Sleep_End</th>\n",
       "      <th>Weekend_Sleep_End</th>\n",
       "    </tr>\n",
       "  </thead>\n",
       "  <tbody>\n",
       "    <tr>\n",
       "      <th>0</th>\n",
       "      <td>1</td>\n",
       "      <td>24</td>\n",
       "      <td>Other</td>\n",
       "      <td>2nd Year</td>\n",
       "      <td>7.7</td>\n",
       "      <td>7.9</td>\n",
       "      <td>3.4</td>\n",
       "      <td>2</td>\n",
       "      <td>37</td>\n",
       "      <td>10</td>\n",
       "      <td>14.16</td>\n",
       "      <td>4.05</td>\n",
       "      <td>7.41</td>\n",
       "      <td>7.06</td>\n",
       "    </tr>\n",
       "    <tr>\n",
       "      <th>1</th>\n",
       "      <td>2</td>\n",
       "      <td>21</td>\n",
       "      <td>Male</td>\n",
       "      <td>1st Year</td>\n",
       "      <td>6.3</td>\n",
       "      <td>6.0</td>\n",
       "      <td>1.9</td>\n",
       "      <td>5</td>\n",
       "      <td>74</td>\n",
       "      <td>2</td>\n",
       "      <td>8.73</td>\n",
       "      <td>7.10</td>\n",
       "      <td>8.21</td>\n",
       "      <td>10.21</td>\n",
       "    </tr>\n",
       "    <tr>\n",
       "      <th>2</th>\n",
       "      <td>3</td>\n",
       "      <td>22</td>\n",
       "      <td>Male</td>\n",
       "      <td>4th Year</td>\n",
       "      <td>5.1</td>\n",
       "      <td>6.7</td>\n",
       "      <td>3.9</td>\n",
       "      <td>5</td>\n",
       "      <td>53</td>\n",
       "      <td>5</td>\n",
       "      <td>20.00</td>\n",
       "      <td>20.47</td>\n",
       "      <td>6.88</td>\n",
       "      <td>10.92</td>\n",
       "    </tr>\n",
       "    <tr>\n",
       "      <th>3</th>\n",
       "      <td>4</td>\n",
       "      <td>24</td>\n",
       "      <td>Other</td>\n",
       "      <td>4th Year</td>\n",
       "      <td>6.3</td>\n",
       "      <td>8.6</td>\n",
       "      <td>2.8</td>\n",
       "      <td>4</td>\n",
       "      <td>55</td>\n",
       "      <td>9</td>\n",
       "      <td>19.82</td>\n",
       "      <td>4.08</td>\n",
       "      <td>6.69</td>\n",
       "      <td>9.42</td>\n",
       "    </tr>\n",
       "    <tr>\n",
       "      <th>4</th>\n",
       "      <td>5</td>\n",
       "      <td>20</td>\n",
       "      <td>Male</td>\n",
       "      <td>4th Year</td>\n",
       "      <td>4.7</td>\n",
       "      <td>2.7</td>\n",
       "      <td>2.7</td>\n",
       "      <td>0</td>\n",
       "      <td>85</td>\n",
       "      <td>3</td>\n",
       "      <td>20.98</td>\n",
       "      <td>6.12</td>\n",
       "      <td>8.98</td>\n",
       "      <td>9.01</td>\n",
       "    </tr>\n",
       "  </tbody>\n",
       "</table>\n",
       "</div>"
      ],
      "text/plain": [
       "   Student_ID  Age Gender University_Year  Sleep_Duration  Study_Hours  \\\n",
       "0           1   24  Other        2nd Year             7.7          7.9   \n",
       "1           2   21   Male        1st Year             6.3          6.0   \n",
       "2           3   22   Male        4th Year             5.1          6.7   \n",
       "3           4   24  Other        4th Year             6.3          8.6   \n",
       "4           5   20   Male        4th Year             4.7          2.7   \n",
       "\n",
       "   Screen_Time  Caffeine_Intake  Physical_Activity  Sleep_Quality  \\\n",
       "0          3.4                2                 37             10   \n",
       "1          1.9                5                 74              2   \n",
       "2          3.9                5                 53              5   \n",
       "3          2.8                4                 55              9   \n",
       "4          2.7                0                 85              3   \n",
       "\n",
       "   Weekday_Sleep_Start  Weekend_Sleep_Start  Weekday_Sleep_End  \\\n",
       "0                14.16                 4.05               7.41   \n",
       "1                 8.73                 7.10               8.21   \n",
       "2                20.00                20.47               6.88   \n",
       "3                19.82                 4.08               6.69   \n",
       "4                20.98                 6.12               8.98   \n",
       "\n",
       "   Weekend_Sleep_End  \n",
       "0               7.06  \n",
       "1              10.21  \n",
       "2              10.92  \n",
       "3               9.42  \n",
       "4               9.01  "
      ]
     },
     "execution_count": 15,
     "metadata": {},
     "output_type": "execute_result"
    }
   ],
   "source": [
    "print(\"Shape: \", df.shape)\n",
    "df.head()"
   ]
  },
  {
   "cell_type": "markdown",
   "metadata": {},
   "source": [
    "Get a feel for the dataframe: what are the names of the columns? What are the datatypes? \n",
    "\n",
    "Explore the dataset."
   ]
  },
  {
   "cell_type": "code",
   "execution_count": 16,
   "metadata": {},
   "outputs": [
    {
     "name": "stdout",
     "output_type": "stream",
     "text": [
      "<class 'pandas.core.frame.DataFrame'>\n",
      "RangeIndex: 500 entries, 0 to 499\n",
      "Data columns (total 14 columns):\n",
      " #   Column               Non-Null Count  Dtype  \n",
      "---  ------               --------------  -----  \n",
      " 0   Student_ID           500 non-null    int64  \n",
      " 1   Age                  500 non-null    int64  \n",
      " 2   Gender               500 non-null    object \n",
      " 3   University_Year      500 non-null    object \n",
      " 4   Sleep_Duration       500 non-null    float64\n",
      " 5   Study_Hours          500 non-null    float64\n",
      " 6   Screen_Time          500 non-null    float64\n",
      " 7   Caffeine_Intake      500 non-null    int64  \n",
      " 8   Physical_Activity    500 non-null    int64  \n",
      " 9   Sleep_Quality        500 non-null    int64  \n",
      " 10  Weekday_Sleep_Start  500 non-null    float64\n",
      " 11  Weekend_Sleep_Start  500 non-null    float64\n",
      " 12  Weekday_Sleep_End    500 non-null    float64\n",
      " 13  Weekend_Sleep_End    500 non-null    float64\n",
      "dtypes: float64(7), int64(5), object(2)\n",
      "memory usage: 54.8+ KB\n"
     ]
    }
   ],
   "source": [
    "df.info()"
   ]
  },
  {
   "cell_type": "code",
   "execution_count": 17,
   "metadata": {},
   "outputs": [
    {
     "data": {
      "text/html": [
       "<div>\n",
       "<style scoped>\n",
       "    .dataframe tbody tr th:only-of-type {\n",
       "        vertical-align: middle;\n",
       "    }\n",
       "\n",
       "    .dataframe tbody tr th {\n",
       "        vertical-align: top;\n",
       "    }\n",
       "\n",
       "    .dataframe thead th {\n",
       "        text-align: right;\n",
       "    }\n",
       "</style>\n",
       "<table border=\"1\" class=\"dataframe\">\n",
       "  <thead>\n",
       "    <tr style=\"text-align: right;\">\n",
       "      <th></th>\n",
       "      <th>Student_ID</th>\n",
       "      <th>Age</th>\n",
       "      <th>Gender</th>\n",
       "      <th>University_Year</th>\n",
       "      <th>Sleep_Duration</th>\n",
       "      <th>Study_Hours</th>\n",
       "      <th>Screen_Time</th>\n",
       "      <th>Caffeine_Intake</th>\n",
       "      <th>Physical_Activity</th>\n",
       "      <th>Sleep_Quality</th>\n",
       "      <th>Weekday_Sleep_Start</th>\n",
       "      <th>Weekend_Sleep_Start</th>\n",
       "      <th>Weekday_Sleep_End</th>\n",
       "      <th>Weekend_Sleep_End</th>\n",
       "    </tr>\n",
       "  </thead>\n",
       "  <tbody>\n",
       "    <tr>\n",
       "      <th>count</th>\n",
       "      <td>500.000000</td>\n",
       "      <td>500.00000</td>\n",
       "      <td>500</td>\n",
       "      <td>500</td>\n",
       "      <td>500.000000</td>\n",
       "      <td>500.000000</td>\n",
       "      <td>500.000000</td>\n",
       "      <td>500.000000</td>\n",
       "      <td>500.000000</td>\n",
       "      <td>500.000000</td>\n",
       "      <td>500.000000</td>\n",
       "      <td>500.000000</td>\n",
       "      <td>500.000000</td>\n",
       "      <td>500.000000</td>\n",
       "    </tr>\n",
       "    <tr>\n",
       "      <th>unique</th>\n",
       "      <td>NaN</td>\n",
       "      <td>NaN</td>\n",
       "      <td>3</td>\n",
       "      <td>4</td>\n",
       "      <td>NaN</td>\n",
       "      <td>NaN</td>\n",
       "      <td>NaN</td>\n",
       "      <td>NaN</td>\n",
       "      <td>NaN</td>\n",
       "      <td>NaN</td>\n",
       "      <td>NaN</td>\n",
       "      <td>NaN</td>\n",
       "      <td>NaN</td>\n",
       "      <td>NaN</td>\n",
       "    </tr>\n",
       "    <tr>\n",
       "      <th>top</th>\n",
       "      <td>NaN</td>\n",
       "      <td>NaN</td>\n",
       "      <td>Male</td>\n",
       "      <td>3rd Year</td>\n",
       "      <td>NaN</td>\n",
       "      <td>NaN</td>\n",
       "      <td>NaN</td>\n",
       "      <td>NaN</td>\n",
       "      <td>NaN</td>\n",
       "      <td>NaN</td>\n",
       "      <td>NaN</td>\n",
       "      <td>NaN</td>\n",
       "      <td>NaN</td>\n",
       "      <td>NaN</td>\n",
       "    </tr>\n",
       "    <tr>\n",
       "      <th>freq</th>\n",
       "      <td>NaN</td>\n",
       "      <td>NaN</td>\n",
       "      <td>186</td>\n",
       "      <td>132</td>\n",
       "      <td>NaN</td>\n",
       "      <td>NaN</td>\n",
       "      <td>NaN</td>\n",
       "      <td>NaN</td>\n",
       "      <td>NaN</td>\n",
       "      <td>NaN</td>\n",
       "      <td>NaN</td>\n",
       "      <td>NaN</td>\n",
       "      <td>NaN</td>\n",
       "      <td>NaN</td>\n",
       "    </tr>\n",
       "    <tr>\n",
       "      <th>mean</th>\n",
       "      <td>250.500000</td>\n",
       "      <td>21.53600</td>\n",
       "      <td>NaN</td>\n",
       "      <td>NaN</td>\n",
       "      <td>6.472400</td>\n",
       "      <td>5.981600</td>\n",
       "      <td>2.525000</td>\n",
       "      <td>2.462000</td>\n",
       "      <td>62.342000</td>\n",
       "      <td>5.362000</td>\n",
       "      <td>11.166860</td>\n",
       "      <td>12.375860</td>\n",
       "      <td>6.929900</td>\n",
       "      <td>8.988100</td>\n",
       "    </tr>\n",
       "    <tr>\n",
       "      <th>std</th>\n",
       "      <td>144.481833</td>\n",
       "      <td>2.33315</td>\n",
       "      <td>NaN</td>\n",
       "      <td>NaN</td>\n",
       "      <td>1.485764</td>\n",
       "      <td>3.475725</td>\n",
       "      <td>0.859414</td>\n",
       "      <td>1.682325</td>\n",
       "      <td>35.191674</td>\n",
       "      <td>2.967249</td>\n",
       "      <td>5.972352</td>\n",
       "      <td>5.789611</td>\n",
       "      <td>1.183174</td>\n",
       "      <td>1.111253</td>\n",
       "    </tr>\n",
       "    <tr>\n",
       "      <th>min</th>\n",
       "      <td>1.000000</td>\n",
       "      <td>18.00000</td>\n",
       "      <td>NaN</td>\n",
       "      <td>NaN</td>\n",
       "      <td>4.000000</td>\n",
       "      <td>0.100000</td>\n",
       "      <td>1.000000</td>\n",
       "      <td>0.000000</td>\n",
       "      <td>0.000000</td>\n",
       "      <td>1.000000</td>\n",
       "      <td>1.080000</td>\n",
       "      <td>2.050000</td>\n",
       "      <td>5.000000</td>\n",
       "      <td>7.020000</td>\n",
       "    </tr>\n",
       "    <tr>\n",
       "      <th>25%</th>\n",
       "      <td>125.750000</td>\n",
       "      <td>20.00000</td>\n",
       "      <td>NaN</td>\n",
       "      <td>NaN</td>\n",
       "      <td>5.100000</td>\n",
       "      <td>2.900000</td>\n",
       "      <td>1.800000</td>\n",
       "      <td>1.000000</td>\n",
       "      <td>32.750000</td>\n",
       "      <td>3.000000</td>\n",
       "      <td>6.087500</td>\n",
       "      <td>7.297500</td>\n",
       "      <td>5.900000</td>\n",
       "      <td>8.047500</td>\n",
       "    </tr>\n",
       "    <tr>\n",
       "      <th>50%</th>\n",
       "      <td>250.500000</td>\n",
       "      <td>21.00000</td>\n",
       "      <td>NaN</td>\n",
       "      <td>NaN</td>\n",
       "      <td>6.500000</td>\n",
       "      <td>6.050000</td>\n",
       "      <td>2.600000</td>\n",
       "      <td>2.000000</td>\n",
       "      <td>62.500000</td>\n",
       "      <td>5.000000</td>\n",
       "      <td>10.635000</td>\n",
       "      <td>12.690000</td>\n",
       "      <td>6.885000</td>\n",
       "      <td>9.005000</td>\n",
       "    </tr>\n",
       "    <tr>\n",
       "      <th>75%</th>\n",
       "      <td>375.250000</td>\n",
       "      <td>24.00000</td>\n",
       "      <td>NaN</td>\n",
       "      <td>NaN</td>\n",
       "      <td>7.800000</td>\n",
       "      <td>8.800000</td>\n",
       "      <td>3.300000</td>\n",
       "      <td>4.000000</td>\n",
       "      <td>93.250000</td>\n",
       "      <td>8.000000</td>\n",
       "      <td>16.152500</td>\n",
       "      <td>17.327500</td>\n",
       "      <td>7.972500</td>\n",
       "      <td>9.925000</td>\n",
       "    </tr>\n",
       "    <tr>\n",
       "      <th>max</th>\n",
       "      <td>500.000000</td>\n",
       "      <td>25.00000</td>\n",
       "      <td>NaN</td>\n",
       "      <td>NaN</td>\n",
       "      <td>9.000000</td>\n",
       "      <td>12.000000</td>\n",
       "      <td>4.000000</td>\n",
       "      <td>5.000000</td>\n",
       "      <td>120.000000</td>\n",
       "      <td>10.000000</td>\n",
       "      <td>21.930000</td>\n",
       "      <td>22.000000</td>\n",
       "      <td>8.980000</td>\n",
       "      <td>10.990000</td>\n",
       "    </tr>\n",
       "  </tbody>\n",
       "</table>\n",
       "</div>"
      ],
      "text/plain": [
       "        Student_ID        Age Gender University_Year  Sleep_Duration  \\\n",
       "count   500.000000  500.00000    500             500      500.000000   \n",
       "unique         NaN        NaN      3               4             NaN   \n",
       "top            NaN        NaN   Male        3rd Year             NaN   \n",
       "freq           NaN        NaN    186             132             NaN   \n",
       "mean    250.500000   21.53600    NaN             NaN        6.472400   \n",
       "std     144.481833    2.33315    NaN             NaN        1.485764   \n",
       "min       1.000000   18.00000    NaN             NaN        4.000000   \n",
       "25%     125.750000   20.00000    NaN             NaN        5.100000   \n",
       "50%     250.500000   21.00000    NaN             NaN        6.500000   \n",
       "75%     375.250000   24.00000    NaN             NaN        7.800000   \n",
       "max     500.000000   25.00000    NaN             NaN        9.000000   \n",
       "\n",
       "        Study_Hours  Screen_Time  Caffeine_Intake  Physical_Activity  \\\n",
       "count    500.000000   500.000000       500.000000         500.000000   \n",
       "unique          NaN          NaN              NaN                NaN   \n",
       "top             NaN          NaN              NaN                NaN   \n",
       "freq            NaN          NaN              NaN                NaN   \n",
       "mean       5.981600     2.525000         2.462000          62.342000   \n",
       "std        3.475725     0.859414         1.682325          35.191674   \n",
       "min        0.100000     1.000000         0.000000           0.000000   \n",
       "25%        2.900000     1.800000         1.000000          32.750000   \n",
       "50%        6.050000     2.600000         2.000000          62.500000   \n",
       "75%        8.800000     3.300000         4.000000          93.250000   \n",
       "max       12.000000     4.000000         5.000000         120.000000   \n",
       "\n",
       "        Sleep_Quality  Weekday_Sleep_Start  Weekend_Sleep_Start  \\\n",
       "count      500.000000           500.000000           500.000000   \n",
       "unique            NaN                  NaN                  NaN   \n",
       "top               NaN                  NaN                  NaN   \n",
       "freq              NaN                  NaN                  NaN   \n",
       "mean         5.362000            11.166860            12.375860   \n",
       "std          2.967249             5.972352             5.789611   \n",
       "min          1.000000             1.080000             2.050000   \n",
       "25%          3.000000             6.087500             7.297500   \n",
       "50%          5.000000            10.635000            12.690000   \n",
       "75%          8.000000            16.152500            17.327500   \n",
       "max         10.000000            21.930000            22.000000   \n",
       "\n",
       "        Weekday_Sleep_End  Weekend_Sleep_End  \n",
       "count          500.000000         500.000000  \n",
       "unique                NaN                NaN  \n",
       "top                   NaN                NaN  \n",
       "freq                  NaN                NaN  \n",
       "mean             6.929900           8.988100  \n",
       "std              1.183174           1.111253  \n",
       "min              5.000000           7.020000  \n",
       "25%              5.900000           8.047500  \n",
       "50%              6.885000           9.005000  \n",
       "75%              7.972500           9.925000  \n",
       "max              8.980000          10.990000  "
      ]
     },
     "execution_count": 17,
     "metadata": {},
     "output_type": "execute_result"
    }
   ],
   "source": [
    "df.describe(include='all')"
   ]
  },
  {
   "cell_type": "markdown",
   "metadata": {},
   "source": [
    "Find the minimum, maximum sleep duration number.\n",
    "Find the rows with sleep duration values over 7 and also find the rows with sleep duration under five."
   ]
  },
  {
   "cell_type": "code",
   "execution_count": 18,
   "metadata": {},
   "outputs": [
    {
     "name": "stdout",
     "output_type": "stream",
     "text": [
      "min 4.0\n",
      "max 9.0\n",
      "values over 7 (201, 14)\n",
      "values under 5 (107, 14)\n"
     ]
    }
   ],
   "source": [
    "print('min', df['Sleep_Duration'].min())\n",
    "print('max', df['Sleep_Duration'].max())\n",
    "print('values over 7', df[df['Sleep_Duration']>7].shape)\n",
    "print('values under 5', df[df['Sleep_Duration']<5].shape)"
   ]
  },
  {
   "cell_type": "markdown",
   "metadata": {},
   "source": [
    "Find the rows with sleep quality less than five but greater than 3. How many rows are there?"
   ]
  },
  {
   "cell_type": "code",
   "execution_count": 19,
   "metadata": {},
   "outputs": [
    {
     "data": {
      "text/plain": [
       "Student_ID             46\n",
       "Age                    46\n",
       "Gender                 46\n",
       "University_Year        46\n",
       "Sleep_Duration         46\n",
       "Study_Hours            46\n",
       "Screen_Time            46\n",
       "Caffeine_Intake        46\n",
       "Physical_Activity      46\n",
       "Sleep_Quality          46\n",
       "Weekday_Sleep_Start    46\n",
       "Weekend_Sleep_Start    46\n",
       "Weekday_Sleep_End      46\n",
       "Weekend_Sleep_End      46\n",
       "dtype: int64"
      ]
     },
     "execution_count": 19,
     "metadata": {},
     "output_type": "execute_result"
    }
   ],
   "source": [
    "df[(df[\"Sleep_Quality\"] < 5) & (df[\"Sleep_Quality\"] > 3)].count()"
   ]
  },
  {
   "cell_type": "markdown",
   "metadata": {},
   "source": [
    "Create a new column that calculates the total hours from weekend_sleep_start to weekend_sleep_end and add it to the dataframe."
   ]
  },
  {
   "cell_type": "code",
   "execution_count": 24,
   "metadata": {},
   "outputs": [
    {
     "name": "stdout",
     "output_type": "stream",
     "text": [
      "0      3.01\n",
      "1      3.11\n",
      "2     -9.55\n",
      "3      5.34\n",
      "4      2.89\n",
      "       ... \n",
      "495    2.35\n",
      "496   -8.31\n",
      "497    8.47\n",
      "498   -8.29\n",
      "499   -4.93\n",
      "Name: weekend_sleep_duration_hours, Length: 500, dtype: float64\n",
      "Index(['Student_ID', 'Age', 'Gender', 'University_Year', 'Sleep_Duration',\n",
      "       'Study_Hours', 'Screen_Time', 'Caffeine_Intake', 'Physical_Activity',\n",
      "       'Sleep_Quality', 'Weekday_Sleep_Start', 'Weekend_Sleep_Start',\n",
      "       'Weekday_Sleep_End', 'Weekend_Sleep_End',\n",
      "       'weekend_sleep_duration_hours'],\n",
      "      dtype='object')\n"
     ]
    }
   ],
   "source": [
    "df['weekend_sleep_duration_hours'] = (df['Weekend_Sleep_End'] - df['Weekend_Sleep_Start'])\n",
    "print(df['weekend_sleep_duration_hours'])\n",
    "print(df.columns)"
   ]
  },
  {
   "cell_type": "markdown",
   "metadata": {},
   "source": [
    "Do you see any relationship between sleep duration and screen time?"
   ]
  },
  {
   "cell_type": "code",
   "execution_count": null,
   "metadata": {},
   "outputs": [
    {
     "data": {
      "image/png": "[encoded data removed]",
      "text/plain": [
       "<Figure size 640x480 with 1 Axes>"
      ]
     },
     "metadata": {},
     "output_type": "display_data"
    }
   ],
   "source": [
    "import matplotlib.pyplot as plt\n",
    "\n",
    "plt.scatter(df['Sleep_Duration'], df['Screen_Time'], color='blue', marker='o')\n",
    "\n",
    "plt.xlabel('Sleep Duration (Hours)')\n",
    "plt.ylabel('Screen Time (Hours)')\n",
    "plt.title('Sleep Duration vs Screen Time')\n",
    "\n",
    "plt.show()"
   ]
  },
  {
   "cell_type": "code",
   "execution_count": 38,
   "metadata": {},
   "outputs": [
    {
     "data": {
      "text/plain": [
       "np.float64(0.06793363172408504)"
      ]
     },
     "execution_count": 38,
     "metadata": {},
     "output_type": "execute_result"
    }
   ],
   "source": [
    "correlation = df['Sleep_Duration'].corr(df['Screen_Time'])\n",
    "correlation"
   ]
  }
 ],
 "metadata": {
  "kernelspec": {
   "display_name": "venv",
   "language": "python",
   "name": "python3"
  },
  "language_info": {
   "codemirror_mode": {
    "name": "ipython",
    "version": 3
   },
   "file_extension": ".py",
   "mimetype": "text/x-python",
   "name": "python",
   "nbconvert_exporter": "python",
   "pygments_lexer": "ipython3",
   "version": "3.13.0"
  }
 },
 "nbformat": 4,
 "nbformat_minor": 2
}
